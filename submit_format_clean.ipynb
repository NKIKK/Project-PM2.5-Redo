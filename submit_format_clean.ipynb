{
 "cells": [
  {
   "cell_type": "code",
   "execution_count": 2,
   "metadata": {},
   "outputs": [],
   "source": [
    "import pandas as pd\n",
    "from datetime import timedelta,datetime\n"
   ]
  },
  {
   "cell_type": "markdown",
   "metadata": {},
   "source": [
    "# All provinces"
   ]
  },
  {
   "cell_type": "code",
   "execution_count": 36,
   "metadata": {},
   "outputs": [
    {
     "data": {
      "text/html": [
       "<div>\n",
       "<style scoped>\n",
       "    .dataframe tbody tr th:only-of-type {\n",
       "        vertical-align: middle;\n",
       "    }\n",
       "\n",
       "    .dataframe tbody tr th {\n",
       "        vertical-align: top;\n",
       "    }\n",
       "\n",
       "    .dataframe thead th {\n",
       "        text-align: right;\n",
       "    }\n",
       "</style>\n",
       "<table border=\"1\" class=\"dataframe\">\n",
       "  <thead>\n",
       "    <tr style=\"text-align: right;\">\n",
       "      <th></th>\n",
       "      <th>date_time</th>\n",
       "      <th>PM2.5</th>\n",
       "      <th>temp</th>\n",
       "      <th>wind speed</th>\n",
       "      <th>wind dir</th>\n",
       "      <th>province</th>\n",
       "      <th>Time</th>\n",
       "    </tr>\n",
       "  </thead>\n",
       "  <tbody>\n",
       "    <tr>\n",
       "      <th>0</th>\n",
       "      <td>2020-07-01 06:00:00</td>\n",
       "      <td>11.0</td>\n",
       "      <td>28.3</td>\n",
       "      <td>55</td>\n",
       "      <td>270</td>\n",
       "      <td>BKK</td>\n",
       "      <td>2020-07-01 00:00:00</td>\n",
       "    </tr>\n",
       "    <tr>\n",
       "      <th>1</th>\n",
       "      <td>2020-07-01 12:00:00</td>\n",
       "      <td>15.0</td>\n",
       "      <td>29.7</td>\n",
       "      <td>51</td>\n",
       "      <td>260</td>\n",
       "      <td>BKK</td>\n",
       "      <td>2020-07-01 00:00:00</td>\n",
       "    </tr>\n",
       "    <tr>\n",
       "      <th>2</th>\n",
       "      <td>2020-07-01 18:00:00</td>\n",
       "      <td>14.0</td>\n",
       "      <td>29.5</td>\n",
       "      <td>35</td>\n",
       "      <td>265</td>\n",
       "      <td>BKK</td>\n",
       "      <td>2020-07-01 00:00:00</td>\n",
       "    </tr>\n",
       "    <tr>\n",
       "      <th>3</th>\n",
       "      <td>2020-07-02 00:00:00</td>\n",
       "      <td>18.0</td>\n",
       "      <td>28.7</td>\n",
       "      <td>60</td>\n",
       "      <td>275</td>\n",
       "      <td>BKK</td>\n",
       "      <td>2020-07-01 00:00:00</td>\n",
       "    </tr>\n",
       "    <tr>\n",
       "      <th>4</th>\n",
       "      <td>2020-07-02 06:00:00</td>\n",
       "      <td>12.0</td>\n",
       "      <td>28.4</td>\n",
       "      <td>40</td>\n",
       "      <td>275</td>\n",
       "      <td>BKK</td>\n",
       "      <td>2020-07-01 00:00:00</td>\n",
       "    </tr>\n",
       "  </tbody>\n",
       "</table>\n",
       "</div>"
      ],
      "text/plain": [
       "             date_time  PM2.5  temp wind speed wind dir province  \\\n",
       "0  2020-07-01 06:00:00   11.0  28.3         55      270      BKK   \n",
       "1  2020-07-01 12:00:00   15.0  29.7         51      260      BKK   \n",
       "2  2020-07-01 18:00:00   14.0  29.5         35      265      BKK   \n",
       "3  2020-07-02 00:00:00   18.0  28.7         60      275      BKK   \n",
       "4  2020-07-02 06:00:00   12.0  28.4         40      275      BKK   \n",
       "\n",
       "                  Time  \n",
       "0  2020-07-01 00:00:00  \n",
       "1  2020-07-01 00:00:00  \n",
       "2  2020-07-01 00:00:00  \n",
       "3  2020-07-01 00:00:00  \n",
       "4  2020-07-01 00:00:00  "
      ]
     },
     "execution_count": 36,
     "metadata": {},
     "output_type": "execute_result"
    }
   ],
   "source": [
    "provinces = ['BKK','Chiangmai','Rayong','Saraburi','Khonkaen','Surat']\n",
    "\n",
    "all_clean2 = pd.DataFrame(columns=['date_time','PM2.5','temp','wind speed','wind dir','province'])\n",
    "for province in provinces:\n",
    "    clean2 = pd.read_csv(province+'_clean2.csv')\n",
    "\n",
    "    submit_format2 = pd.read_csv('submit_time_format_2.csv')\n",
    "    submit_format2.columns =['Time','date_time']\n",
    "    df_merge = pd.merge(submit_format2,clean2,how='left')\n",
    "    df_merge['province']=province\n",
    "\n",
    "    all_clean2 = pd.concat([all_clean2,df_merge])\n",
    "all_clean2.head()"
   ]
  },
  {
   "cell_type": "code",
   "execution_count": 8,
   "metadata": {},
   "outputs": [],
   "source": [
    "all_clean2.dropna(inplace=True)"
   ]
  },
  {
   "cell_type": "code",
   "execution_count": 9,
   "metadata": {},
   "outputs": [],
   "source": [
    "all_clean2 = all_clean2[['Time','date_time','PM2.5','province']]\n",
    "all_clean2.to_csv('all_pred_clean.csv',index=False)"
   ]
  }
 ],
 "metadata": {
  "interpreter": {
   "hash": "ef98beed530724fd48f935abab518c0f3e16171ba4883f2358360793e5698786"
  },
  "kernelspec": {
   "display_name": "Python 3.8.8 ('base')",
   "language": "python",
   "name": "python3"
  },
  "language_info": {
   "codemirror_mode": {
    "name": "ipython",
    "version": 3
   },
   "file_extension": ".py",
   "mimetype": "text/x-python",
   "name": "python",
   "nbconvert_exporter": "python",
   "pygments_lexer": "ipython3",
   "version": "3.8.8"
  },
  "orig_nbformat": 4
 },
 "nbformat": 4,
 "nbformat_minor": 2
}
