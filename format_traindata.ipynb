{
 "cells": [
  {
   "cell_type": "code",
   "execution_count": 1,
   "metadata": {},
   "outputs": [],
   "source": [
    "import time\n",
    "import os\n",
    "import pandas as pd\n",
    "from datetime import datetime, timedelta\n",
    "from tqdm.notebook import tqdm_notebook\n",
    "tqdm_notebook.pandas()"
   ]
  },
  {
   "cell_type": "code",
   "execution_count": 2,
   "metadata": {},
   "outputs": [],
   "source": [
    "provinces = ['BKK','Chiangmai','Khonkaen','Rayong','Saraburi','Surat']\n",
    "train_file_names = ['_train','_temp_surface','_weather_wind']\n",
    "train_data_paths = []\n",
    "train_data_dict = {}\n",
    "lat_lon_dict = {'BKK':[13.729984,100.536443],'Chiangmai':[18.840633,98.969661],'Khonkaen':[16.445329,102.835251],'Rayong':[12.671521,101.275875],'Saraburi':[14.685833,100.871996],'Surat':[9.126057,99.325355]}"
   ]
  },
  {
   "cell_type": "code",
   "execution_count": 17,
   "metadata": {},
   "outputs": [
    {
     "name": "stdout",
     "output_type": "stream",
     "text": [
      "{'BKK': ['./BKK/train/bkk_train.csv', './BKK/train/bkk_temp_surface.csv', './BKK/train/bkk_weather_wind.csv'], 'Chiangmai': ['./Chiangmai/train/chiangmai_train.csv', './Chiangmai/train/chiangmai_temp_surface.csv', './Chiangmai/train/chiangmai_weather_wind.csv'], 'Khonkaen': ['./Khonkaen/train/khonkaen_train.csv', './Khonkaen/train/khonkaen_temp_surface.csv', './Khonkaen/train/khonkaen_weather_wind.csv'], 'Rayong': ['./Rayong/train/rayong_train.csv', './Rayong/train/rayong_temp_surface.csv', './Rayong/train/rayong_weather_wind.csv'], 'Saraburi': ['./Saraburi/train/saraburi_train.csv', './Saraburi/train/saraburi_temp_surface.csv', './Saraburi/train/saraburi_weather_wind.csv'], 'Surat': ['./Surat/train/surat_train.csv', './Surat/train/surat_temp_surface.csv', './Surat/train/surat_weather_wind.csv']}\n"
     ]
    }
   ],
   "source": [
    "for province in provinces:\n",
    "    train_data_paths.append('./'+province+'/train/')\n",
    "    train_data_dict[province] = []\n",
    "    for file_name in train_file_names:\n",
    "        train_data_dict[province].append(train_data_paths[-1]+province.lower()+file_name+'.csv')\n",
    "\n",
    "print(train_data_dict)"
   ]
  },
  {
   "cell_type": "code",
   "execution_count": 40,
   "metadata": {},
   "outputs": [],
   "source": [
    "for province in provinces:\n",
    "    province_train = pd.read_csv(train_data_dict[province][0])\n",
    "    province_temp_serface = pd.read_csv(train_data_dict[province][1])\n",
    "    province_wheather_wind = pd.read_csv(train_data_dict[province][2])\n",
    "    province_train = province_train.rename(columns={\"Unnamed: 0\": \"date_time\"})\n",
    "    province_train['date_time'] = pd.to_datetime(province_train['date_time'])\n",
    "    province_temp_serface['date_time'] = pd.to_datetime(province_temp_serface['date_time'])\n",
    "    province_wheather_wind['date_time'] = pd.to_datetime(province_wheather_wind['date_time'])\n",
    "    province_merge_temp_wind = pd.merge(province_temp_serface, province_wheather_wind, on='date_time')\n",
    "    province_merge = pd.merge(province_train, province_merge_temp_wind, on='date_time',how='left')\n",
    "    province_merge = province_merge.fillna(method='ffill')\n",
    "    province_merge = province_merge.fillna(method='bfill')\n",
    "    province_merge['lat'] = lat_lon_dict[province][0]\n",
    "    province_merge['long'] = lat_lon_dict[province][1]\n",
    "    province_merge.to_csv('./'+province+'/train/'+province.lower()+'_train_format.csv',index=False)"
   ]
  }
 ],
 "metadata": {
  "interpreter": {
   "hash": "723dc80cb05396c6d0019b793cc9629de1a15570232a2a29e62999a170644e05"
  },
  "kernelspec": {
   "display_name": "Python 3.8.8 ('base')",
   "language": "python",
   "name": "python3"
  },
  "language_info": {
   "codemirror_mode": {
    "name": "ipython",
    "version": 3
   },
   "file_extension": ".py",
   "mimetype": "text/x-python",
   "name": "python",
   "nbconvert_exporter": "python",
   "pygments_lexer": "ipython3",
   "version": "3.8.8"
  },
  "orig_nbformat": 4
 },
 "nbformat": 4,
 "nbformat_minor": 2
}
